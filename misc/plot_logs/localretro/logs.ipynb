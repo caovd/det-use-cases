{
 "cells": [
  {
   "cell_type": "code",
   "execution_count": 64,
   "id": "9ef6ed69-3942-4690-b302-6522ff6fae64",
   "metadata": {},
   "outputs": [],
   "source": [
    "import pandas as pd"
   ]
  },
  {
   "cell_type": "code",
   "execution_count": 65,
   "id": "4ee9637e-a6f3-4380-82bc-dbd351a3c927",
   "metadata": {},
   "outputs": [],
   "source": [
    "data = pd.read_csv('logs.txt', sep=\" \", header=None)"
   ]
  },
  {
   "cell_type": "code",
   "execution_count": 66,
   "id": "f0f3a4d7-636f-405b-a1d9-3fbfc025a984",
   "metadata": {},
   "outputs": [
    {
     "data": {
      "text/html": [
       "<div>\n",
       "<style scoped>\n",
       "    .dataframe tbody tr th:only-of-type {\n",
       "        vertical-align: middle;\n",
       "    }\n",
       "\n",
       "    .dataframe tbody tr th {\n",
       "        vertical-align: top;\n",
       "    }\n",
       "\n",
       "    .dataframe thead th {\n",
       "        text-align: right;\n",
       "    }\n",
       "</style>\n",
       "<table border=\"1\" class=\"dataframe\">\n",
       "  <thead>\n",
       "    <tr style=\"text-align: right;\">\n",
       "      <th></th>\n",
       "      <th>0</th>\n",
       "      <th>1</th>\n",
       "      <th>2</th>\n",
       "      <th>3</th>\n",
       "      <th>4</th>\n",
       "      <th>5</th>\n",
       "    </tr>\n",
       "  </thead>\n",
       "  <tbody>\n",
       "    <tr>\n",
       "      <th>0</th>\n",
       "      <td>epoch</td>\n",
       "      <td>1/50,</td>\n",
       "      <td>batch</td>\n",
       "      <td>2501/2501,</td>\n",
       "      <td>loss</td>\n",
       "      <td>0.0547</td>\n",
       "    </tr>\n",
       "    <tr>\n",
       "      <th>1</th>\n",
       "      <td>epoch</td>\n",
       "      <td>1/50,</td>\n",
       "      <td>training</td>\n",
       "      <td>loss:</td>\n",
       "      <td>0.1021</td>\n",
       "      <td>NaN</td>\n",
       "    </tr>\n",
       "    <tr>\n",
       "      <th>2</th>\n",
       "      <td>epoch</td>\n",
       "      <td>1/50,</td>\n",
       "      <td>validation</td>\n",
       "      <td>loss:</td>\n",
       "      <td>0.0546</td>\n",
       "      <td>NaN</td>\n",
       "    </tr>\n",
       "    <tr>\n",
       "      <th>3</th>\n",
       "      <td>epoch</td>\n",
       "      <td>1/50,</td>\n",
       "      <td>Best</td>\n",
       "      <td>loss:</td>\n",
       "      <td>0.0546</td>\n",
       "      <td>NaN</td>\n",
       "    </tr>\n",
       "    <tr>\n",
       "      <th>4</th>\n",
       "      <td>epoch</td>\n",
       "      <td>2/50,</td>\n",
       "      <td>batch</td>\n",
       "      <td>2501/2501,</td>\n",
       "      <td>loss</td>\n",
       "      <td>0.0379</td>\n",
       "    </tr>\n",
       "    <tr>\n",
       "      <th>...</th>\n",
       "      <td>...</td>\n",
       "      <td>...</td>\n",
       "      <td>...</td>\n",
       "      <td>...</td>\n",
       "      <td>...</td>\n",
       "      <td>...</td>\n",
       "    </tr>\n",
       "    <tr>\n",
       "      <th>72</th>\n",
       "      <td>epoch</td>\n",
       "      <td>18/50,</td>\n",
       "      <td>batch</td>\n",
       "      <td>2501/2501,</td>\n",
       "      <td>loss</td>\n",
       "      <td>0.0129</td>\n",
       "    </tr>\n",
       "    <tr>\n",
       "      <th>73</th>\n",
       "      <td>epoch</td>\n",
       "      <td>18/50,</td>\n",
       "      <td>training</td>\n",
       "      <td>loss:</td>\n",
       "      <td>0.0228</td>\n",
       "      <td>NaN</td>\n",
       "    </tr>\n",
       "    <tr>\n",
       "      <th>74</th>\n",
       "      <td>EarlyStopping</td>\n",
       "      <td>counter:</td>\n",
       "      <td>5</td>\n",
       "      <td>out</td>\n",
       "      <td>of</td>\n",
       "      <td>5</td>\n",
       "    </tr>\n",
       "    <tr>\n",
       "      <th>75</th>\n",
       "      <td>epoch</td>\n",
       "      <td>18/50,</td>\n",
       "      <td>validation</td>\n",
       "      <td>loss:</td>\n",
       "      <td>0.0328</td>\n",
       "      <td>NaN</td>\n",
       "    </tr>\n",
       "    <tr>\n",
       "      <th>76</th>\n",
       "      <td>epoch</td>\n",
       "      <td>18/50,</td>\n",
       "      <td>Best</td>\n",
       "      <td>loss:</td>\n",
       "      <td>0.0322</td>\n",
       "      <td>NaN</td>\n",
       "    </tr>\n",
       "  </tbody>\n",
       "</table>\n",
       "<p>77 rows × 6 columns</p>\n",
       "</div>"
      ],
      "text/plain": [
       "                0         1           2           3       4       5\n",
       "0           epoch     1/50,       batch  2501/2501,    loss  0.0547\n",
       "1           epoch     1/50,    training       loss:  0.1021     NaN\n",
       "2           epoch     1/50,  validation       loss:  0.0546     NaN\n",
       "3           epoch     1/50,        Best       loss:  0.0546     NaN\n",
       "4           epoch     2/50,       batch  2501/2501,    loss  0.0379\n",
       "..            ...       ...         ...         ...     ...     ...\n",
       "72          epoch    18/50,       batch  2501/2501,    loss  0.0129\n",
       "73          epoch    18/50,    training       loss:  0.0228     NaN\n",
       "74  EarlyStopping  counter:           5         out      of       5\n",
       "75          epoch    18/50,  validation       loss:  0.0328     NaN\n",
       "76          epoch    18/50,        Best       loss:  0.0322     NaN\n",
       "\n",
       "[77 rows x 6 columns]"
      ]
     },
     "execution_count": 66,
     "metadata": {},
     "output_type": "execute_result"
    }
   ],
   "source": [
    "data"
   ]
  },
  {
   "cell_type": "code",
   "execution_count": 67,
   "id": "2ed5ae83-213e-4d7a-9b0d-11678895cd5b",
   "metadata": {},
   "outputs": [],
   "source": [
    "    val_loss = []\n",
    "    train_loss = []\n",
    "    for i in range(len(data.loc[:,4])):\n",
    "        if data.loc[i,2] == \"validation\":\n",
    "            val_loss.append(data.loc[i,4])\n",
    "        if data.loc[i,2] == \"training\":\n",
    "            train_loss.append(data.loc[i,4])\n",
    "            \n",
    "    # Convert str to float\n",
    "    val_loss = [float(x) for x in val_loss]\n",
    "    train_loss = [float(x) for x in train_loss]"
   ]
  },
  {
   "cell_type": "code",
   "execution_count": 68,
   "id": "1c77e264-e724-485b-bdc7-43f732628e7c",
   "metadata": {},
   "outputs": [
    {
     "data": {
      "image/png": "[encoded data removed]",
      "text/plain": [
       "<Figure size 640x480 with 1 Axes>"
      ]
     },
     "metadata": {},
     "output_type": "display_data"
    }
   ],
   "source": [
    "import matplotlib.pyplot as plt\n",
    "\n",
    "plt.plot(val_loss, 'o-r')\n",
    "plt.plot(train_loss, 'o-b')\n",
    "plt.xlabel('epoch')\n",
    "plt.ylabel('loss')\n",
    "plt.legend([\"val\", \"train\"], loc =\"upper right\")\n",
    "plt.show()"
   ]
  },
  {
   "cell_type": "code",
   "execution_count": null,
   "id": "8a5a8442-559d-49fb-86b5-5166a551078b",
   "metadata": {},
   "outputs": [],
   "source": []
  },
  {
   "cell_type": "code",
   "execution_count": null,
   "id": "d4e99072-7870-4cb6-8721-c59acd59f55c",
   "metadata": {},
   "outputs": [],
   "source": []
  }
 ],
 "metadata": {
  "kernelspec": {
   "display_name": "Python 3 (ipykernel)",
   "language": "python",
   "name": "python3"
  },
  "language_info": {
   "codemirror_mode": {
    "name": "ipython",
    "version": 3
   },
   "file_extension": ".py",
   "mimetype": "text/x-python",
   "name": "python",
   "nbconvert_exporter": "python",
   "pygments_lexer": "ipython3",
   "version": "3.7.13"
  }
 },
 "nbformat": 4,
 "nbformat_minor": 5
}
